{
 "cells": [
  {
   "cell_type": "code",
   "execution_count": 2,
   "id": "13b3f969",
   "metadata": {},
   "outputs": [
    {
     "name": "stdout",
     "output_type": "stream",
     "text": [
      "Welcome to the File Server.\n",
      "> help\n",
      "list: List all the files from the server.\n",
      "upload <path>: Upload a file to the server.\n",
      "delete <filename>: Delete a file from the server.\n",
      "logout: Disconnect from the server.\n",
      "help: List all the commands.\n",
      "> list\n",
      ".ipynb_checkpoints\n",
      "> delete abc.txt\n",
      "File not found.\n",
      "> list client_data\n",
      ".ipynb_checkpoints\n",
      "> upload client_data/abc.txt\n",
      "File uploaded successfully.\n",
      "> list\n",
      ".ipynb_checkpoints\n",
      "abc.txt\n",
      "> delete abc.txt\n",
      "File deleted successfully.\n",
      "> list\n",
      ".ipynb_checkpoints\n",
      "abc.txt\n",
      "> logout\n",
      "Disconnected from the server.\n"
     ]
    }
   ],
   "source": [
    "import socket\n",
    "\n",
    "IP = socket.gethostbyname(socket.gethostname())\n",
    "PORT = 4456\n",
    "ADDR = (IP, PORT)\n",
    "FORMAT = \"utf-8\"\n",
    "SIZE = 1024\n",
    "\n",
    "def main():\n",
    "    client = socket.socket(socket.AF_INET, socket.SOCK_STREAM)\n",
    "    client.connect(ADDR)\n",
    "\n",
    "    while True:\n",
    "        data = client.recv(SIZE).decode(FORMAT)\n",
    "        cmd, msg = data.split(\"@\")\n",
    "\n",
    "        if cmd == \"DISCONNECTED\":\n",
    "            print(f\"[SERVER]: {msg}\")\n",
    "            break\n",
    "        elif cmd == \"OK\":\n",
    "            print(f\"{msg}\")\n",
    "\n",
    "        data = input(\"> \")\n",
    "        data = data.split(\" \")\n",
    "        cmd = data[0]\n",
    "\n",
    "        if cmd == \"help\":\n",
    "            client.send(cmd.encode(FORMAT))\n",
    "        elif cmd == \"logout\":\n",
    "            client.send(cmd.encode(FORMAT))\n",
    "            break\n",
    "        elif cmd == \"list\":\n",
    "            client.send(cmd.encode(FORMAT))\n",
    "        elif cmd == \"delete\":\n",
    "            client.send(f\"{cmd}@{data[1]}\".encode(FORMAT))\n",
    "        elif cmd == \"upload\":\n",
    "            path = data[1]\n",
    "\n",
    "            with open(f\"{path}\", \"r\") as f:\n",
    "                text = f.read()\n",
    "\n",
    "            filename = path.split(\"/\")[-1]\n",
    "            send_data = f\"{cmd}@{filename}@{text}\"\n",
    "            client.send(send_data.encode(FORMAT))\n",
    "\n",
    "    print(\"Disconnected from the server.\")\n",
    "    client.close()\n",
    "\n",
    "if __name__ == \"__main__\":\n",
    "    main()"
   ]
  },
  {
   "cell_type": "code",
   "execution_count": null,
   "id": "7313ee81",
   "metadata": {},
   "outputs": [],
   "source": []
  }
 ],
 "metadata": {
  "kernelspec": {
   "display_name": "Python 3 (ipykernel)",
   "language": "python",
   "name": "python3"
  },
  "language_info": {
   "codemirror_mode": {
    "name": "ipython",
    "version": 3
   },
   "file_extension": ".py",
   "mimetype": "text/x-python",
   "name": "python",
   "nbconvert_exporter": "python",
   "pygments_lexer": "ipython3",
   "version": "3.9.12"
  }
 },
 "nbformat": 4,
 "nbformat_minor": 5
}
