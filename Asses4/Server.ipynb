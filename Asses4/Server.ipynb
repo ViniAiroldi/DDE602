{
 "cells": [
  {
   "cell_type": "code",
   "execution_count": 3,
   "id": "73ba149f",
   "metadata": {},
   "outputs": [
    {
     "name": "stdout",
     "output_type": "stream",
     "text": [
      "Socket successfully created\n"
     ]
    },
    {
     "ename": "OSError",
     "evalue": "[WinError 10048] Only one usage of each socket address (protocol/network address/port) is normally permitted",
     "output_type": "error",
     "traceback": [
      "\u001b[1;31m---------------------------------------------------------------------------\u001b[0m",
      "\u001b[1;31mOSError\u001b[0m                                   Traceback (most recent call last)",
      "Input \u001b[1;32mIn [3]\u001b[0m, in \u001b[0;36m<cell line: 17>\u001b[1;34m()\u001b[0m\n\u001b[0;32m     10\u001b[0m port \u001b[38;5;241m=\u001b[39m \u001b[38;5;241m12345\u001b[39m               \n\u001b[0;32m     12\u001b[0m \u001b[38;5;66;03m# Next bind to the port\u001b[39;00m\n\u001b[0;32m     13\u001b[0m \u001b[38;5;66;03m# we have not typed any ip in the ip field\u001b[39;00m\n\u001b[0;32m     14\u001b[0m \u001b[38;5;66;03m# instead we have inputted an empty string\u001b[39;00m\n\u001b[0;32m     15\u001b[0m \u001b[38;5;66;03m# this makes the server listen to requests\u001b[39;00m\n\u001b[0;32m     16\u001b[0m \u001b[38;5;66;03m# coming from other computers on the network\u001b[39;00m\n\u001b[1;32m---> 17\u001b[0m \u001b[43ms\u001b[49m\u001b[38;5;241;43m.\u001b[39;49m\u001b[43mbind\u001b[49m\u001b[43m(\u001b[49m\u001b[43m(\u001b[49m\u001b[38;5;124;43m'\u001b[39;49m\u001b[38;5;124;43m'\u001b[39;49m\u001b[43m,\u001b[49m\u001b[43m \u001b[49m\u001b[43mport\u001b[49m\u001b[43m)\u001b[49m\u001b[43m)\u001b[49m        \n\u001b[0;32m     18\u001b[0m \u001b[38;5;28mprint\u001b[39m (\u001b[38;5;124m\"\u001b[39m\u001b[38;5;124msocket binded to \u001b[39m\u001b[38;5;132;01m%s\u001b[39;00m\u001b[38;5;124m\"\u001b[39m \u001b[38;5;241m%\u001b[39m(port))\n\u001b[0;32m     20\u001b[0m \u001b[38;5;66;03m# put the socket into listening mode\u001b[39;00m\n",
      "\u001b[1;31mOSError\u001b[0m: [WinError 10048] Only one usage of each socket address (protocol/network address/port) is normally permitted"
     ]
    }
   ],
   "source": [
    "# first of all import the socket library\n",
    "import socket            \n",
    " \n",
    "# next create a socket object\n",
    "s = socket.socket()        \n",
    "print (\"Socket successfully created\")\n",
    " \n",
    "# reserve a port on your computer in our\n",
    "# case it is 12345 but it can be anything\n",
    "port = 12345               \n",
    " \n",
    "# Next bind to the port\n",
    "# we have not typed any ip in the ip field\n",
    "# instead we have inputted an empty string\n",
    "# this makes the server listen to requests\n",
    "# coming from other computers on the network\n",
    "s.bind(('', port))        \n",
    "print (\"socket binded to %s\" %(port))\n",
    " \n",
    "# put the socket into listening mode\n",
    "s.listen(5)    \n",
    "print (\"socket is listening\")           \n",
    " \n",
    "# a forever loop until we interrupt it or\n",
    "# an error occurs\n",
    "while True:\n",
    " \n",
    "# Establish connection with client.\n",
    "  c, addr = s.accept()    \n",
    "  print ('Got connection from', addr )\n",
    " \n",
    "  # send a thank you message to the client. encoding to send byte type.\n",
    "  c.send('Thank you for connecting'.encode())\n",
    " \n",
    "  # Close the connection with the client\n",
    "  c.close()\n",
    "   \n",
    "  # Breaking once connection closed\n",
    "  break"
   ]
  },
  {
   "cell_type": "code",
   "execution_count": null,
   "id": "0e5514f2",
   "metadata": {},
   "outputs": [],
   "source": []
  },
  {
   "cell_type": "code",
   "execution_count": null,
   "id": "fd9f7c33",
   "metadata": {},
   "outputs": [],
   "source": []
  }
 ],
 "metadata": {
  "kernelspec": {
   "display_name": "Python 3 (ipykernel)",
   "language": "python",
   "name": "python3"
  },
  "language_info": {
   "codemirror_mode": {
    "name": "ipython",
    "version": 3
   },
   "file_extension": ".py",
   "mimetype": "text/x-python",
   "name": "python",
   "nbconvert_exporter": "python",
   "pygments_lexer": "ipython3",
   "version": "3.9.12"
  }
 },
 "nbformat": 4,
 "nbformat_minor": 5
}
